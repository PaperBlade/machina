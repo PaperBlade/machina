{
  "nbformat": 4,
  "nbformat_minor": 0,
  "metadata": {
    "colab": {
      "provenance": [],
      "authorship_tag": "ABX9TyOjubHbaA1z2fxPVppLItrN",
      "include_colab_link": true
    },
    "kernelspec": {
      "name": "python3",
      "display_name": "Python 3"
    },
    "language_info": {
      "name": "python"
    }
  },
  "cells": [
    {
      "cell_type": "markdown",
      "metadata": {
        "id": "view-in-github",
        "colab_type": "text"
      },
      "source": [
        "<a href=\"https://colab.research.google.com/github/PaperBlade/machina/blob/main/Pembelajaran_Mesin_ensemble.ipynb\" target=\"_parent\"><img src=\"https://colab.research.google.com/assets/colab-badge.svg\" alt=\"Open In Colab\"/></a>"
      ]
    },
    {
      "cell_type": "code",
      "execution_count": 23,
      "metadata": {
        "colab": {
          "base_uri": "https://localhost:8080/"
        },
        "id": "4H5sjXXJTYUm",
        "outputId": "5b4a9997-e4f9-45c2-e834-82f81a55c35f"
      },
      "outputs": [
        {
          "output_type": "stream",
          "name": "stdout",
          "text": [
            "Accuracy decision tree: 0.9629629629629629\n",
            "Accuracy bagging: 0.9629629629629629\n",
            "Accuracy random forest: 1.0\n",
            "Accuracy adaboost: 0.9629629629629629\n"
          ]
        }
      ],
      "source": [
        "from sklearn.tree import DecisionTreeClassifier\n",
        "from sklearn.ensemble import RandomForestClassifier\n",
        "from sklearn.ensemble import AdaBoostClassifier\n",
        "from sklearn.ensemble import BaggingClassifier\n",
        "from sklearn.datasets import load_wine\n",
        "from sklearn.model_selection import train_test_split\n",
        "from sklearn.metrics import accuracy_score\n",
        "\n",
        "# Load dataset\n",
        "wine = load_wine()\n",
        "X, y = wine.data, wine.target\n",
        "\n",
        "# Split dataset into training and testing sets\n",
        "X_train, X_test, y_train, y_test = train_test_split(X, y, test_size=0.30, random_state=42)\n",
        "\n",
        "# Create decision tree classifier\n",
        "dt = DecisionTreeClassifier(max_depth=5, random_state=42) \n",
        "dt_bg = DecisionTreeClassifier()\n",
        "\n",
        "# Create bagging, random forest and adaboost classifier\n",
        "bagging = BaggingClassifier(estimator=dt_bg, n_estimators=100, random_state=42)\n",
        "rf = RandomForestClassifier(n_estimators=100, random_state=42)\n",
        "adaboost = AdaBoostClassifier(estimator=dt_bg, n_estimators=100, random_state=42)\n",
        "\n",
        "\n",
        "# Fit the model on training data\n",
        "dt.fit(X_train, y_train)\n",
        "bagging.fit(X_train, y_train)\n",
        "rf.fit(X_train, y_train)\n",
        "adaboost.fit(X_train, y_train)\n",
        "\n",
        "# Predict on testing data\n",
        "y_pred_dt = dt.predict(X_test)\n",
        "y_pred_bg = bagging.predict(X_test)\n",
        "y_pred_rf = rf.predict(X_test)\n",
        "y_pred_ad = adaboost.predict(X_test)\n",
        "\n",
        "\n",
        "# Evaluate the model\n",
        "accuracy_dt = accuracy_score(y_test, y_pred_dt)\n",
        "accuracy_bg = accuracy_score(y_test, y_pred_bg)\n",
        "accuracy_rf = accuracy_score(y_test, y_pred_rf)\n",
        "accuracy_ad = accuracy_score(y_test, y_pred_ad)\n",
        "print('Accuracy decision tree:', accuracy_dt)\n",
        "print('Accuracy bagging:', accuracy_bg)\n",
        "print('Accuracy random forest:', accuracy_rf)\n",
        "print('Accuracy adaboost:', accuracy_ad)\n"
      ]
    }
  ]
}